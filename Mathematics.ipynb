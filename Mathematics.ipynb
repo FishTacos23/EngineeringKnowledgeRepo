{
 "cells": [
  {
   "cell_type": "markdown",
   "metadata": {},
   "source": [
    "# MATHEMATICS"
   ]
  },
  {
   "cell_type": "markdown",
   "metadata": {},
   "source": [
    "There is no standard definition, but its the language of numbers"
   ]
  },
  {
   "cell_type": "markdown",
   "metadata": {},
   "source": [
    "## Transformations"
   ]
  },
  {
   "cell_type": "markdown",
   "metadata": {},
   "source": [
    "The formulation to change a point or set of points from one coordinate system to another."
   ]
  },
  {
   "cell_type": "markdown",
   "metadata": {},
   "source": [
    "### Rotations"
   ]
  },
  {
   "cell_type": "markdown",
   "metadata": {},
   "source": [
    "\\begin{equation}\n",
    "x'= x cos(\\theta) + y sin(\\theta)\n",
    "\\end{equation} \\\\\n",
    "\\begin{equation}\n",
    "y'= -x sin(\\theta) + y cos(\\theta)\n",
    "\\end{equation}"
   ]
  },
  {
   "cell_type": "markdown",
   "metadata": {
    "collapsed": true
   },
   "source": [
    "### Acceleration"
   ]
  },
  {
   "cell_type": "markdown",
   "metadata": {},
   "source": [
    "Prove \n",
    "\\begin{align}\n",
    "V \\frac{\\delta V}{\\delta s} = a\n",
    "\\end{align}"
   ]
  },
  {
   "cell_type": "markdown",
   "metadata": {},
   "source": [
    "Let:\n",
    "\\begin{equation}\n",
    "a = \\frac{\\delta V}{\\delta t}\n",
    "\\end{equation}\n",
    "and\n",
    "\\begin{equation}\n",
    "a = \\frac{\\delta^2 s}{\\delta t^2}\n",
    "\\end{equation}"
   ]
  },
  {
   "cell_type": "markdown",
   "metadata": {},
   "source": [
    "Then:\n",
    "\\begin{equation}\n",
    "a = \\frac{\\delta}{\\delta t} \\frac{\\delta s}{\\delta t}\n",
    "\\end{equation} \\\\\n",
    "\\begin{equation}\n",
    "a \\delta t = \\frac{\\delta}{\\delta t} \\frac{\\delta s}{\\delta t} \\delta t\n",
    "\\end{equation} \\\\\n",
    "\\begin{equation}\n",
    "\\int a dt = \\int \\frac{\\delta}{\\delta t} \\frac{\\delta s}{\\delta t} \\delta t\n",
    "\\end{equation} \\\\\n",
    "\\begin{equation}\n",
    "V = \\frac{\\delta s}{\\delta t}\n",
    "\\end{equation} \\\\\n",
    "\\begin{equation}\n",
    "\\delta t = \\frac{\\delta s}{V}\n",
    "\\end{equation}"
   ]
  },
  {
   "cell_type": "markdown",
   "metadata": {},
   "source": [
    "Plug into first equation\n",
    "\\begin{equation}\n",
    "a = \\frac{\\delta V}{\\frac{\\delta s}{V}}\n",
    "\\end{equation}"
   ]
  },
  {
   "cell_type": "markdown",
   "metadata": {},
   "source": [
    "\\begin{equation}\n",
    "a = V \\frac{\\delta V}{\\delta s}\n",
    "\\end{equation}\n",
    "\n",
    "Quod Erat Demonstrandum"
   ]
  }
 ],
 "metadata": {
  "kernelspec": {
   "display_name": "Python 2",
   "language": "python",
   "name": "python2"
  },
  "language_info": {
   "codemirror_mode": {
    "name": "ipython",
    "version": 2
   },
   "file_extension": ".py",
   "mimetype": "text/x-python",
   "name": "python",
   "nbconvert_exporter": "python",
   "pygments_lexer": "ipython2",
   "version": "2.7.14"
  }
 },
 "nbformat": 4,
 "nbformat_minor": 2
}
