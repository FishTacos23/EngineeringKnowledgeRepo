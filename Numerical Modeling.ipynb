{
 "cells": [
  {
   "cell_type": "markdown",
   "metadata": {},
   "source": [
    "# **NUMERICAL MODELING**"
   ]
  },
  {
   "cell_type": "markdown",
   "metadata": {},
   "source": [
    "The creation of models to describe the behavior of data."
   ]
  },
  {
   "cell_type": "markdown",
   "metadata": {},
   "source": [
    "## STATISTICS"
   ]
  },
  {
   "cell_type": "markdown",
   "metadata": {},
   "source": [
    "## Beysian Statistics"
   ]
  },
  {
   "cell_type": "markdown",
   "metadata": {},
   "source": [
    "Deals with probabily of outcomes and proposed hypothesis instead of observed differences."
   ]
  },
  {
   "cell_type": "markdown",
   "metadata": {},
   "source": [
    "## FALLACIES"
   ]
  },
  {
   "cell_type": "markdown",
   "metadata": {},
   "source": [
    "## Simpson's Paradox"
   ]
  },
  {
   "cell_type": "markdown",
   "metadata": {},
   "source": [
    "Simpson's paradox describes a numerical modeling phenomenon in which the data appears to have an opposite trend when the correct grouping is not taken into account."
   ]
  },
  {
   "cell_type": "markdown",
   "metadata": {},
   "source": [
    "### An Example"
   ]
  },
  {
   "cell_type": "markdown",
   "metadata": {},
   "source": [
    "Let's say that we are flight test engineers working on a new aircraft. We would like to review the flight test data to learn how the climb performance of the aircraft changes with temperature. It is common aerospace knowledge that the climb performance decreases with increasing temperature. We would like to learn how much the performance decreases with increasing temperature."
   ]
  },
  {
   "cell_type": "markdown",
   "metadata": {},
   "source": [
    "We gather the flight test data for every six months worth of testing which began in June and ended in December. There was one test a week during that time period."
   ]
  },
  {
   "cell_type": "markdown",
   "metadata": {},
   "source": [
    "The following data has been contrived for this example but represents realistic data."
   ]
  },
  {
   "cell_type": "code",
   "execution_count": 1,
   "metadata": {
    "collapsed": true
   },
   "outputs": [],
   "source": [
    "import numpy as np\n",
    "import matplotlib.pyplot as plt\n",
    "from sklearn.linear_model import LinearRegression"
   ]
  },
  {
   "cell_type": "code",
   "execution_count": 2,
   "metadata": {
    "collapsed": true
   },
   "outputs": [],
   "source": [
    "weeks = [1, 2, 3, 4, 5, 6, 7, 8, 9, 10, 11, 12, 13, 14, 15, 16, 17, 18, 19, 20, 21, 22, 23, 24, 25]\n",
    "temperature = np.array([97.6, 97.3, 89.2, 89.4, 80.3, 96.8, 92.4, 83.4, 82.4, 70.0, 75.1, 72.5, 70.0, 65.8, 74.2, 56.7, 61.8, 62.0, 54.5, 54.0, 60.5, 47.2, 39.3, 47.1, 45.3])\n",
    "climb = np.array([509.3, 510.4, 543.1, 542.3, 578.6, 412.5, 430.0, 466.3, 470.0, 519.8, 399.4, 409.7, 419.6, 436.6, 403.1, 373.1, 352.4, 351.6, 381.8, 383.6, 257.6, 310.9, 342.7, 311.4, 318.7])"
   ]
  },
  {
   "cell_type": "markdown",
   "metadata": {},
   "source": [
    "Now we will do a linear regression between| temperatures and climb"
   ]
  },
  {
   "cell_type": "code",
   "execution_count": 3,
   "metadata": {
    "collapsed": true
   },
   "outputs": [],
   "source": [
    "x = temperature.reshape((25,1))\n",
    "y = climb\n",
    "regression = LinearRegression().fit(x,y)"
   ]
  },
  {
   "cell_type": "markdown",
   "metadata": {},
   "source": [
    "We expect that the slope parameter of this regression will be negative. This would mean that as temperature increased, the climb performance would decrease."
   ]
  },
  {
   "cell_type": "code",
   "execution_count": 4,
   "metadata": {},
   "outputs": [
    {
     "name": "stdout",
     "output_type": "stream",
     "text": [
      "Slope Estimate = 3.5682541122273177\n",
      "R2 Value = 0.5667533917951053\n"
     ]
    }
   ],
   "source": [
    "print 'Slope Estimate = ' + str(regression.coef_[0])\n",
    "print 'R2 Value = ' + str(regression.score(x,y))"
   ]
  },
  {
   "cell_type": "markdown",
   "metadata": {},
   "source": [
    "We can see, that the regression predicted that the climb performance actually increases with increasing temperature. And while the R2 value isn't great, it's also not ignorable.\n",
    "Let's take a look at this data with a plot."
   ]
  },
  {
   "cell_type": "code",
   "execution_count": 5,
   "metadata": {
    "collapsed": true
   },
   "outputs": [],
   "source": [
    "linear_fit = regression.predict(x)"
   ]
  },
  {
   "cell_type": "code",
   "execution_count": 6,
   "metadata": {},
   "outputs": [
    {
     "data": {
      "image/png": "[encoded data removed]",
      "text/plain": [
       "<matplotlib.figure.Figure at 0x1ba50f60>"
      ]
     },
     "metadata": {
      "needs_background": "light"
     },
     "output_type": "display_data"
    }
   ],
   "source": [
    "plt.plot(x,y,'k.')\n",
    "plt.plot(x,linear_fit,'k-')\n",
    "plt.ylabel('Climb Performance (ft/min)')\n",
    "plt.xlabel('Temperature (F)')\n",
    "plt.legend(['Data', 'Linear Fit'])\n",
    "plt.show()"
   ]
  },
  {
   "cell_type": "markdown",
   "metadata": {},
   "source": [
    "This plot clearly shows that over the available data the climb performance did generally increase as temperatures increased."
   ]
  },
  {
   "cell_type": "markdown",
   "metadata": {},
   "source": [
    "What was unknown to us, however, is that during the flight tests the payload of the aircraft was increased every few weeks. Now that we know this let's plot this data again, but grouped by aircraft gross weight."
   ]
  },
  {
   "cell_type": "code",
   "execution_count": 7,
   "metadata": {
    "collapsed": true
   },
   "outputs": [],
   "source": [
    "payload = np.asarray([0., 0., 0., 0., 0., 100., 100., 100., 100., 100., 200., 200., 200., 200., 200., 300., 300., 300., 300., 300., 400., 400., 400., 400., 400.])"
   ]
  },
  {
   "cell_type": "markdown",
   "metadata": {},
   "source": [
    "From the new data we can see that the payload changed every 5 weeks"
   ]
  },
  {
   "cell_type": "markdown",
   "metadata": {},
   "source": [
    "This can be accounted for with a multiple linear regression."
   ]
  },
  {
   "cell_type": "code",
   "execution_count": 8,
   "metadata": {
    "collapsed": true
   },
   "outputs": [],
   "source": [
    "x = np.concatenate((temperature.reshape((25,1)),payload.reshape((25,1))),axis=1)\n",
    "y = climb\n",
    "regression = LinearRegression().fit(x,y)"
   ]
  },
  {
   "cell_type": "markdown",
   "metadata": {},
   "source": [
    "Now let's look at the new slope estimates."
   ]
  },
  {
   "cell_type": "code",
   "execution_count": 9,
   "metadata": {},
   "outputs": [
    {
     "name": "stdout",
     "output_type": "stream",
     "text": [
      "Slope Estimate of Temperature = -4.0084125468606615\n",
      "Slope Estimate of Payload = -1.00097028129338\n",
      "R2 Value = 0.9999982959875419\n"
     ]
    }
   ],
   "source": [
    "print 'Slope Estimate of Temperature = ' + str(regression.coef_[0])\n",
    "print 'Slope Estimate of Payload = ' + str(regression.coef_[1])\n",
    "print 'R2 Value = ' + str(regression.score(x,y))"
   ]
  },
  {
   "cell_type": "markdown",
   "metadata": {},
   "source": [
    "These slope estimates are more reasonable. The climb performance decreases both with temperature and with payload."
   ]
  },
  {
   "cell_type": "markdown",
   "metadata": {},
   "source": [
    "Let's plot the estimate for each group to verify these estimates."
   ]
  },
  {
   "cell_type": "code",
   "execution_count": 14,
   "metadata": {
    "collapsed": true
   },
   "outputs": [],
   "source": [
    "linear_fit_1 = regression.predict(x[:5])\n",
    "linear_fit_2 = regression.predict(x[5:10])\n",
    "linear_fit_3 = regression.predict(x[10:15])\n",
    "linear_fit_4 = regression.predict(x[15:20])\n",
    "linear_fit_5 = regression.predict(x[20:])"
   ]
  },
  {
   "cell_type": "code",
   "execution_count": 16,
   "metadata": {},
   "outputs": [
    {
     "data": {
      "image/png": "[encoded data removed]",
      "text/plain": [
       "<matplotlib.figure.Figure at 0x1d8b7dd8>"
      ]
     },
     "metadata": {
      "needs_background": "light"
     },
     "output_type": "display_data"
    }
   ],
   "source": [
    "plt.plot(x[:,0],y,'k.')\n",
    "plt.plot(x[:,0],linear_fit,'k-')\n",
    "plt.plot(x[:5,0],linear_fit_1,'k--')\n",
    "plt.plot(x[5:10,0],linear_fit_2,'k--')\n",
    "plt.plot(x[10:15,0],linear_fit_3,'k--')\n",
    "plt.plot(x[15:20,0],linear_fit_4,'k--')\n",
    "plt.plot(x[20:,0],linear_fit_5,'k--')\n",
    "plt.ylabel('Climb Performance (ft/min)')\n",
    "plt.xlabel('Temperature (F)')\n",
    "plt.legend(['Data', 'Linear Fit', 'P=0', 'P=100', 'P=200', 'P=300', 'P=400'])\n",
    "plt.show()"
   ]
  },
  {
   "cell_type": "markdown",
   "metadata": {},
   "source": [
    "From this graph it is even more clear that after we account for the payload groups, the temperature increase correlates with a climb performance decrease."
   ]
  },
  {
   "cell_type": "markdown",
   "metadata": {},
   "source": [
    "### Application"
   ]
  },
  {
   "cell_type": "markdown",
   "metadata": {},
   "source": [
    "Simpson's paradox is not something which is usually planned into numerical modeling. It often is unforseen and can lead to misleading conclusions. In the shown example the reverse effect was estimated before accounting for more factors. In practice the error may not be so easy to see, the estimate may just be greater or lesser in magnitude. Either way may lead to false conclusions and poor engineering design. A few things may be done to safeguard against this fallacy. Conclusions of cause-and-effect should not be made where conclusions of correlation are more appropriate. Before even looking at the data, a list of all possible factors which affect the outcome should be generated. In general, good statistical practices should be used."
   ]
  }
 ],
 "metadata": {
  "kernelspec": {
   "display_name": "Python 2",
   "language": "python",
   "name": "python2"
  },
  "language_info": {
   "codemirror_mode": {
    "name": "ipython",
    "version": 2
   },
   "file_extension": ".py",
   "mimetype": "text/x-python",
   "name": "python",
   "nbconvert_exporter": "python",
   "pygments_lexer": "ipython2",
   "version": "2.7.14"
  }
 },
 "nbformat": 4,
 "nbformat_minor": 2
}
