{
 "cells": [
  {
   "cell_type": "markdown",
   "metadata": {},
   "source": [
    "# GAME THEORY"
   ]
  },
  {
   "cell_type": "markdown",
   "metadata": {},
   "source": [
    "A study of modeling principals related to multiple agents whose interaction affects an outcome."
   ]
  },
  {
   "cell_type": "markdown",
   "metadata": {},
   "source": [
    "More may be learned about game theory at:<br>\n",
    "https://en.wikipedia.org/wiki/Game_theory"
   ]
  },
  {
   "cell_type": "markdown",
   "metadata": {},
   "source": [
    "## Prisoner's Dilemma"
   ]
  },
  {
   "cell_type": "markdown",
   "metadata": {},
   "source": [
    "A modeling scenario in which \"selfish\" actions improve the result for the individual but worsens the result for the group."
   ]
  },
  {
   "cell_type": "markdown",
   "metadata": {},
   "source": [
    "### The Example"
   ]
  },
  {
   "cell_type": "markdown",
   "metadata": {},
   "source": [
    "This model was named by Tucker with the following example [1]. <br>\n",
    "> Two prisoners are brought into separate interrogation rooms. Both have been convicted to time in prison. They are given the opportunity to reduce their sentence by providing more information about the other prisoner. The following outcomes are possible.\n",
    "1. Neither prisoner provides information.\n",
    "   * Both prisoners get a 1 year sentence. <br><br>\n",
    "2. Only one prisoner provides information.\n",
    "   * No sentence for the prisoner which provided information and 3 year prison sentence for the prisoner who did not provide information. <br><br>\n",
    "3. Both prisoners provide information.  \n",
    "   * Both prisoners get a 2 year sentence. "
   ]
  },
  {
   "cell_type": "markdown",
   "metadata": {},
   "source": [
    "### The Effect"
   ]
  },
  {
   "cell_type": "markdown",
   "metadata": {},
   "source": [
    "The example shows that, no matter the response from either prisoner, their fellow prisoner always benefits from providing information about the other. This is despite the fact that they could both get away with only one year if neither provided information."
   ]
  },
  {
   "cell_type": "markdown",
   "metadata": {},
   "source": [
    "### The Caveats"
   ]
  },
  {
   "cell_type": "markdown",
   "metadata": {},
   "source": [
    "This form of prisoners dilemma assumes that there are no other reprecussions for providing information. More advanced models by be used to account for such further details."
   ]
  },
  {
   "cell_type": "markdown",
   "metadata": {},
   "source": [
    "### The Engineering Applications"
   ]
  },
  {
   "cell_type": "markdown",
   "metadata": {},
   "source": [
    "A wind farm is may be viewing through the model of the prisoners dilemma. Each agent is an individual wind turbine. The output of the wind farm is energy extracted from the wind. The layout of the wind turbines will likely be one in which a turbine may need to sit at or near the wake created by another turbine. This is because wind does not always come from the same direction and because of space constraints. Starting from an optimized design, any one wind turbine may increase its power output by moving to a more adventagous location. This however, may negitevly impact the power output of the other wind turbines making an overall reduction of power output for the full wind farm. "
   ]
  },
  {
   "cell_type": "markdown",
   "metadata": {},
   "source": [
    "More may be learned about prisoner's dilemma at:<br>\n",
    "https://en.wikipedia.org/wiki/Prisoner%27s_dilemma"
   ]
  },
  {
   "cell_type": "markdown",
   "metadata": {},
   "source": [
    "## Citations"
   ]
  },
  {
   "cell_type": "markdown",
   "metadata": {},
   "source": [
    "[1]: Poundstone, W. \"Prisoner's Dilemma Doubleday.\" NY NY (1992)."
   ]
  }
 ],
 "metadata": {
  "kernelspec": {
   "display_name": "Python 2",
   "language": "python",
   "name": "python2"
  },
  "language_info": {
   "codemirror_mode": {
    "name": "ipython",
    "version": 2
   },
   "file_extension": ".py",
   "mimetype": "text/x-python",
   "name": "python",
   "nbconvert_exporter": "python",
   "pygments_lexer": "ipython2",
   "version": "2.7.14"
  }
 },
 "nbformat": 4,
 "nbformat_minor": 2
}
